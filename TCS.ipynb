{
 "cells": [
  {
   "cell_type": "code",
   "execution_count": 19,
   "id": "f31dcc98-1704-4692-962e-0272209900ae",
   "metadata": {},
   "outputs": [],
   "source": [
    "import pandas as pd\n",
    "\n",
    "import numpy as np\n",
    "\n",
    "import matplotlib.pyplot as plt\n",
    "\n",
    "import seaborn as sns\n",
    "\n",
    "from sklearn.model_selection import train_test_split\n",
    "\n",
    "from sklearn.linear_model import LinearRegression\n",
    "\n",
    "from sklearn.metrics import mean_squared_error, r2_score, mean_absolute_error\n",
    "\n",
    "from sklearn.preprocessing import MinMaxScaler\n",
    "\n",
    "from tensorflow.keras.models import Sequential\n",
    "\n",
    "from tensorflow.keras.layers import LSTM, Dense"
   ]
  },
  {
   "cell_type": "code",
   "execution_count": 20,
   "id": "523d6ef2-e36f-47d4-a345-e161e497627f",
   "metadata": {},
   "outputs": [
    {
     "data": {
      "text/html": [
       "<div>\n",
       "<style scoped>\n",
       "    .dataframe tbody tr th:only-of-type {\n",
       "        vertical-align: middle;\n",
       "    }\n",
       "\n",
       "    .dataframe tbody tr th {\n",
       "        vertical-align: top;\n",
       "    }\n",
       "\n",
       "    .dataframe thead th {\n",
       "        text-align: right;\n",
       "    }\n",
       "</style>\n",
       "<table border=\"1\" class=\"dataframe\">\n",
       "  <thead>\n",
       "    <tr style=\"text-align: right;\">\n",
       "      <th></th>\n",
       "      <th>Date</th>\n",
       "      <th>Open</th>\n",
       "      <th>High</th>\n",
       "      <th>Low</th>\n",
       "      <th>Close</th>\n",
       "      <th>Volume</th>\n",
       "      <th>Dividends</th>\n",
       "      <th>Stock Splits</th>\n",
       "    </tr>\n",
       "  </thead>\n",
       "  <tbody>\n",
       "    <tr>\n",
       "      <th>0</th>\n",
       "      <td>2002-08-12</td>\n",
       "      <td>28.794172</td>\n",
       "      <td>29.742206</td>\n",
       "      <td>28.794172</td>\n",
       "      <td>29.519140</td>\n",
       "      <td>212976</td>\n",
       "      <td>0.0</td>\n",
       "      <td>0.0</td>\n",
       "    </tr>\n",
       "    <tr>\n",
       "      <th>1</th>\n",
       "      <td>2002-08-13</td>\n",
       "      <td>29.556316</td>\n",
       "      <td>30.030333</td>\n",
       "      <td>28.905705</td>\n",
       "      <td>29.119476</td>\n",
       "      <td>153576</td>\n",
       "      <td>0.0</td>\n",
       "      <td>0.0</td>\n",
       "    </tr>\n",
       "    <tr>\n",
       "      <th>2</th>\n",
       "      <td>2002-08-14</td>\n",
       "      <td>29.184536</td>\n",
       "      <td>29.184536</td>\n",
       "      <td>26.563503</td>\n",
       "      <td>27.111877</td>\n",
       "      <td>822776</td>\n",
       "      <td>0.0</td>\n",
       "      <td>0.0</td>\n",
       "    </tr>\n",
       "    <tr>\n",
       "      <th>3</th>\n",
       "      <td>2002-08-15</td>\n",
       "      <td>27.111877</td>\n",
       "      <td>27.111877</td>\n",
       "      <td>27.111877</td>\n",
       "      <td>27.111877</td>\n",
       "      <td>0</td>\n",
       "      <td>0.0</td>\n",
       "      <td>0.0</td>\n",
       "    </tr>\n",
       "    <tr>\n",
       "      <th>4</th>\n",
       "      <td>2002-08-16</td>\n",
       "      <td>26.972458</td>\n",
       "      <td>28.255089</td>\n",
       "      <td>26.582090</td>\n",
       "      <td>27.046812</td>\n",
       "      <td>811856</td>\n",
       "      <td>0.0</td>\n",
       "      <td>0.0</td>\n",
       "    </tr>\n",
       "  </tbody>\n",
       "</table>\n",
       "</div>"
      ],
      "text/plain": [
       "         Date       Open       High        Low      Close  Volume  Dividends  \\\n",
       "0  2002-08-12  28.794172  29.742206  28.794172  29.519140  212976        0.0   \n",
       "1  2002-08-13  29.556316  30.030333  28.905705  29.119476  153576        0.0   \n",
       "2  2002-08-14  29.184536  29.184536  26.563503  27.111877  822776        0.0   \n",
       "3  2002-08-15  27.111877  27.111877  27.111877  27.111877       0        0.0   \n",
       "4  2002-08-16  26.972458  28.255089  26.582090  27.046812  811856        0.0   \n",
       "\n",
       "   Stock Splits  \n",
       "0           0.0  \n",
       "1           0.0  \n",
       "2           0.0  \n",
       "3           0.0  \n",
       "4           0.0  "
      ]
     },
     "execution_count": 20,
     "metadata": {},
     "output_type": "execute_result"
    }
   ],
   "source": [
    "tcs = pd.read_csv(r'C:\\Users\\SKV\\Codes\\Unified_Mentor\\TCS_stock\\TCS_stock_history.csv') \n",
    "tcs.head()"
   ]
  },
  {
   "cell_type": "code",
   "execution_count": 21,
   "id": "fd064633-b876-4b73-af95-1ee06bda61a0",
   "metadata": {},
   "outputs": [],
   "source": [
    "tcs['Date'] = pd.to_datetime(tcs['Date'])\n"
   ]
  },
  {
   "cell_type": "code",
   "execution_count": 22,
   "id": "907e3493-a87e-477a-85a1-4eaef494d36d",
   "metadata": {},
   "outputs": [],
   "source": [
    "tcs.sort_values(by='Date', inplace=True)"
   ]
  },
  {
   "cell_type": "code",
   "execution_count": 23,
   "id": "5c2a43d7-3b8d-4ef8-b052-33e8add97dcd",
   "metadata": {},
   "outputs": [],
   "source": [
    "tcs.ffill(inplace=True)"
   ]
  },
  {
   "cell_type": "code",
   "execution_count": 24,
   "id": "70e60285-abe2-4c54-a5b8-63db8edd9f8c",
   "metadata": {},
   "outputs": [],
   "source": [
    "tcs.dropna(inplace=True)\n"
   ]
  },
  {
   "cell_type": "code",
   "execution_count": 25,
   "id": "9f287f34-5dbe-4c15-9d2d-bf9825f736b5",
   "metadata": {},
   "outputs": [
    {
     "data": {
      "text/plain": [
       "0       2002\n",
       "1       2002\n",
       "2       2002\n",
       "3       2002\n",
       "4       2002\n",
       "        ... \n",
       "4458    2021\n",
       "4459    2021\n",
       "4460    2021\n",
       "4461    2021\n",
       "4462    2021\n",
       "Name: Year, Length: 4463, dtype: int32"
      ]
     },
     "execution_count": 25,
     "metadata": {},
     "output_type": "execute_result"
    }
   ],
   "source": [
    "tcs['Year'] = tcs['Date'].dt.year\n",
    "tcs['Year']"
   ]
  },
  {
   "cell_type": "code",
   "execution_count": 26,
   "id": "c850c7d8-d827-498a-9617-c49eb19829cd",
   "metadata": {},
   "outputs": [
    {
     "data": {
      "text/plain": [
       "0       8\n",
       "1       8\n",
       "2       8\n",
       "3       8\n",
       "4       8\n",
       "       ..\n",
       "4458    9\n",
       "4459    9\n",
       "4460    9\n",
       "4461    9\n",
       "4462    9\n",
       "Name: Month, Length: 4463, dtype: int32"
      ]
     },
     "execution_count": 26,
     "metadata": {},
     "output_type": "execute_result"
    }
   ],
   "source": [
    "tcs['Month'] = tcs['Date'].dt.month\n",
    "tcs['Month']\n"
   ]
  },
  {
   "cell_type": "code",
   "execution_count": 27,
   "id": "27879155-6f52-4060-ae81-1ce1d3d15a9e",
   "metadata": {},
   "outputs": [
    {
     "data": {
      "text/plain": [
       "0       12\n",
       "1       13\n",
       "2       14\n",
       "3       15\n",
       "4       16\n",
       "        ..\n",
       "4458    24\n",
       "4459    27\n",
       "4460    28\n",
       "4461    29\n",
       "4462    30\n",
       "Name: Day, Length: 4463, dtype: int32"
      ]
     },
     "execution_count": 27,
     "metadata": {},
     "output_type": "execute_result"
    }
   ],
   "source": [
    "tcs['Day'] = tcs['Date'].dt.day\n",
    "tcs['Day']\n"
   ]
  },
  {
   "cell_type": "code",
   "execution_count": 28,
   "id": "ee5d95c6-bdbf-449b-a00a-b42342b07c41",
   "metadata": {},
   "outputs": [
    {
     "data": {
      "text/plain": [
       "0       0\n",
       "1       1\n",
       "2       2\n",
       "3       3\n",
       "4       4\n",
       "       ..\n",
       "4458    4\n",
       "4459    0\n",
       "4460    1\n",
       "4461    2\n",
       "4462    3\n",
       "Name: Day_of_Week, Length: 4463, dtype: int32"
      ]
     },
     "execution_count": 28,
     "metadata": {},
     "output_type": "execute_result"
    }
   ],
   "source": [
    "tcs['Day_of_Week'] = tcs['Date'].dt.dayofweek\n",
    "tcs['Day_of_Week']"
   ]
  },
  {
   "cell_type": "code",
   "execution_count": 29,
   "id": "309b751a-fc6e-4fb6-b661-1220970193ba",
   "metadata": {},
   "outputs": [
    {
     "data": {
      "text/plain": [
       "0               NaN\n",
       "1         29.519140\n",
       "2         29.119476\n",
       "3         27.111877\n",
       "4         27.111877\n",
       "           ...     \n",
       "4458    3869.250000\n",
       "4459    3871.300049\n",
       "4460    3836.949951\n",
       "4461    3779.149902\n",
       "4462    3791.899902\n",
       "Name: Prev_Close, Length: 4463, dtype: float64"
      ]
     },
     "execution_count": 29,
     "metadata": {},
     "output_type": "execute_result"
    }
   ],
   "source": [
    "tcs['Prev_Close'] = tcs['Close'].shift(1)\n",
    "tcs['Prev_Close']"
   ]
  },
  {
   "cell_type": "code",
   "execution_count": 30,
   "id": "9b50b987-1d7a-4901-8b54-2bb159179c66",
   "metadata": {},
   "outputs": [],
   "source": [
    "tcs.dropna(inplace=True)\n"
   ]
  },
  {
   "cell_type": "code",
   "execution_count": 31,
   "id": "629ae854-0389-442c-83e6-c1ebee09f742",
   "metadata": {},
   "outputs": [],
   "source": [
    "X = tcs[['Open', 'High', 'Low', 'Volume', 'Prev_Close', 'Day_of_Week', 'Month']]\n",
    "\n",
    "y = tcs['Close']\n",
    "\n",
    "X_train, X_test, y_train, y_test = train_test_split(X, y, test_size=0.2, random_state=42)\n",
    "\n",
    "lr_model = LinearRegression()\n",
    "\n",
    "lr_model.fit(X_train, y_train)\n",
    "\n",
    "y_pred = lr_model.predict(X_test)\n"
   ]
  },
  {
   "cell_type": "code",
   "execution_count": 32,
   "id": "4350adfe-f0f1-4b10-9bfe-4d90d67f97e1",
   "metadata": {},
   "outputs": [
    {
     "name": "stdout",
     "output_type": "stream",
     "text": [
      "Linear Regression MSE: 42.0612054670637\n"
     ]
    }
   ],
   "source": [
    "print(\"Linear Regression MSE:\", mean_squared_error(y_test, y_pred))"
   ]
  },
  {
   "cell_type": "code",
   "execution_count": 33,
   "id": "a962c1c8-afab-40be-b6ef-5417d5c2fb95",
   "metadata": {},
   "outputs": [
    {
     "name": "stdout",
     "output_type": "stream",
     "text": [
      "Linear Regression R²: 0.9999432046837814\n"
     ]
    }
   ],
   "source": [
    "print(\"Linear Regression R²:\", r2_score(y_test, y_pred))"
   ]
  },
  {
   "cell_type": "code",
   "execution_count": 35,
   "id": "58a20391-90d4-4644-a39d-d80eb1af77ba",
   "metadata": {
    "scrolled": true
   },
   "outputs": [
    {
     "name": "stdout",
     "output_type": "stream",
     "text": [
      "Epoch 1/30\n",
      "\u001b[1m298/298\u001b[0m \u001b[32m━━━━━━━━━━━━━━━━━━━━\u001b[0m\u001b[37m\u001b[0m \u001b[1m9s\u001b[0m 4ms/step - loss: 0.0380\n",
      "Epoch 2/30\n",
      "\u001b[1m298/298\u001b[0m \u001b[32m━━━━━━━━━━━━━━━━━━━━\u001b[0m\u001b[37m\u001b[0m \u001b[1m1s\u001b[0m 4ms/step - loss: 1.2981e-04\n",
      "Epoch 3/30\n",
      "\u001b[1m298/298\u001b[0m \u001b[32m━━━━━━━━━━━━━━━━━━━━\u001b[0m\u001b[37m\u001b[0m \u001b[1m1s\u001b[0m 4ms/step - loss: 7.7830e-05\n",
      "Epoch 4/30\n",
      "\u001b[1m298/298\u001b[0m \u001b[32m━━━━━━━━━━━━━━━━━━━━\u001b[0m\u001b[37m\u001b[0m \u001b[1m1s\u001b[0m 4ms/step - loss: 6.5813e-05\n",
      "Epoch 5/30\n",
      "\u001b[1m298/298\u001b[0m \u001b[32m━━━━━━━━━━━━━━━━━━━━\u001b[0m\u001b[37m\u001b[0m \u001b[1m1s\u001b[0m 4ms/step - loss: 5.0448e-05\n",
      "Epoch 6/30\n",
      "\u001b[1m298/298\u001b[0m \u001b[32m━━━━━━━━━━━━━━━━━━━━\u001b[0m\u001b[37m\u001b[0m \u001b[1m1s\u001b[0m 4ms/step - loss: 4.1143e-05\n",
      "Epoch 7/30\n",
      "\u001b[1m298/298\u001b[0m \u001b[32m━━━━━━━━━━━━━━━━━━━━\u001b[0m\u001b[37m\u001b[0m \u001b[1m1s\u001b[0m 4ms/step - loss: 3.3136e-05\n",
      "Epoch 8/30\n",
      "\u001b[1m298/298\u001b[0m \u001b[32m━━━━━━━━━━━━━━━━━━━━\u001b[0m\u001b[37m\u001b[0m \u001b[1m1s\u001b[0m 4ms/step - loss: 2.6710e-05\n",
      "Epoch 9/30\n",
      "\u001b[1m298/298\u001b[0m \u001b[32m━━━━━━━━━━━━━━━━━━━━\u001b[0m\u001b[37m\u001b[0m \u001b[1m3s\u001b[0m 4ms/step - loss: 2.7702e-05\n",
      "Epoch 10/30\n",
      "\u001b[1m298/298\u001b[0m \u001b[32m━━━━━━━━━━━━━━━━━━━━\u001b[0m\u001b[37m\u001b[0m \u001b[1m1s\u001b[0m 4ms/step - loss: 2.5026e-05\n",
      "Epoch 11/30\n",
      "\u001b[1m298/298\u001b[0m \u001b[32m━━━━━━━━━━━━━━━━━━━━\u001b[0m\u001b[37m\u001b[0m \u001b[1m1s\u001b[0m 4ms/step - loss: 2.2318e-05\n",
      "Epoch 12/30\n",
      "\u001b[1m298/298\u001b[0m \u001b[32m━━━━━━━━━━━━━━━━━━━━\u001b[0m\u001b[37m\u001b[0m \u001b[1m1s\u001b[0m 4ms/step - loss: 2.7715e-05\n",
      "Epoch 13/30\n",
      "\u001b[1m298/298\u001b[0m \u001b[32m━━━━━━━━━━━━━━━━━━━━\u001b[0m\u001b[37m\u001b[0m \u001b[1m1s\u001b[0m 4ms/step - loss: 2.3598e-05\n",
      "Epoch 14/30\n",
      "\u001b[1m298/298\u001b[0m \u001b[32m━━━━━━━━━━━━━━━━━━━━\u001b[0m\u001b[37m\u001b[0m \u001b[1m1s\u001b[0m 4ms/step - loss: 2.6176e-05\n",
      "Epoch 15/30\n",
      "\u001b[1m298/298\u001b[0m \u001b[32m━━━━━━━━━━━━━━━━━━━━\u001b[0m\u001b[37m\u001b[0m \u001b[1m1s\u001b[0m 4ms/step - loss: 2.4495e-05\n",
      "Epoch 16/30\n",
      "\u001b[1m298/298\u001b[0m \u001b[32m━━━━━━━━━━━━━━━━━━━━\u001b[0m\u001b[37m\u001b[0m \u001b[1m1s\u001b[0m 4ms/step - loss: 2.5624e-05\n",
      "Epoch 17/30\n",
      "\u001b[1m298/298\u001b[0m \u001b[32m━━━━━━━━━━━━━━━━━━━━\u001b[0m\u001b[37m\u001b[0m \u001b[1m1s\u001b[0m 4ms/step - loss: 2.9105e-05\n",
      "Epoch 18/30\n",
      "\u001b[1m298/298\u001b[0m \u001b[32m━━━━━━━━━━━━━━━━━━━━\u001b[0m\u001b[37m\u001b[0m \u001b[1m1s\u001b[0m 4ms/step - loss: 2.8664e-05\n",
      "Epoch 19/30\n",
      "\u001b[1m298/298\u001b[0m \u001b[32m━━━━━━━━━━━━━━━━━━━━\u001b[0m\u001b[37m\u001b[0m \u001b[1m1s\u001b[0m 4ms/step - loss: 2.9956e-05\n",
      "Epoch 20/30\n",
      "\u001b[1m298/298\u001b[0m \u001b[32m━━━━━━━━━━━━━━━━━━━━\u001b[0m\u001b[37m\u001b[0m \u001b[1m3s\u001b[0m 4ms/step - loss: 2.6623e-05\n",
      "Epoch 21/30\n",
      "\u001b[1m298/298\u001b[0m \u001b[32m━━━━━━━━━━━━━━━━━━━━\u001b[0m\u001b[37m\u001b[0m \u001b[1m1s\u001b[0m 5ms/step - loss: 2.5989e-05\n",
      "Epoch 22/30\n",
      "\u001b[1m298/298\u001b[0m \u001b[32m━━━━━━━━━━━━━━━━━━━━\u001b[0m\u001b[37m\u001b[0m \u001b[1m1s\u001b[0m 4ms/step - loss: 3.0506e-05\n",
      "Epoch 23/30\n",
      "\u001b[1m298/298\u001b[0m \u001b[32m━━━━━━━━━━━━━━━━━━━━\u001b[0m\u001b[37m\u001b[0m \u001b[1m1s\u001b[0m 4ms/step - loss: 2.7817e-05\n",
      "Epoch 24/30\n",
      "\u001b[1m298/298\u001b[0m \u001b[32m━━━━━━━━━━━━━━━━━━━━\u001b[0m\u001b[37m\u001b[0m \u001b[1m1s\u001b[0m 4ms/step - loss: 2.6646e-05\n",
      "Epoch 25/30\n",
      "\u001b[1m298/298\u001b[0m \u001b[32m━━━━━━━━━━━━━━━━━━━━\u001b[0m\u001b[37m\u001b[0m \u001b[1m1s\u001b[0m 5ms/step - loss: 2.6072e-05\n",
      "Epoch 26/30\n",
      "\u001b[1m298/298\u001b[0m \u001b[32m━━━━━━━━━━━━━━━━━━━━\u001b[0m\u001b[37m\u001b[0m \u001b[1m1s\u001b[0m 4ms/step - loss: 2.5436e-05\n",
      "Epoch 27/30\n",
      "\u001b[1m298/298\u001b[0m \u001b[32m━━━━━━━━━━━━━━━━━━━━\u001b[0m\u001b[37m\u001b[0m \u001b[1m1s\u001b[0m 4ms/step - loss: 2.9420e-05\n",
      "Epoch 28/30\n",
      "\u001b[1m298/298\u001b[0m \u001b[32m━━━━━━━━━━━━━━━━━━━━\u001b[0m\u001b[37m\u001b[0m \u001b[1m1s\u001b[0m 4ms/step - loss: 2.4257e-05\n",
      "Epoch 29/30\n",
      "\u001b[1m298/298\u001b[0m \u001b[32m━━━━━━━━━━━━━━━━━━━━\u001b[0m\u001b[37m\u001b[0m \u001b[1m1s\u001b[0m 4ms/step - loss: 2.6695e-05\n",
      "Epoch 30/30\n",
      "\u001b[1m298/298\u001b[0m \u001b[32m━━━━━━━━━━━━━━━━━━━━\u001b[0m\u001b[37m\u001b[0m \u001b[1m1s\u001b[0m 4ms/step - loss: 2.5752e-05\n"
     ]
    },
    {
     "data": {
      "text/plain": [
       "<keras.src.callbacks.history.History at 0x1ebc4581010>"
      ]
     },
     "execution_count": 35,
     "metadata": {},
     "output_type": "execute_result"
    }
   ],
   "source": [
    "from tensorflow.keras.layers import Input\n",
    "scaler = MinMaxScaler()\n",
    "\n",
    "scaled_close = scaler.fit_transform(tcs['Close'].values.reshape(-1, 1))\n",
    "\n",
    "X_lstm_data = scaled_close[:-1]\n",
    "y_lstm_data = scaled_close[1:]\n",
    "\n",
    "X_lstm_data = X_lstm_data.reshape(-1, 1, 1)\n",
    "\n",
    "lstm_model = Sequential()\n",
    "lstm_model.add(Input(shape=(1, 1))) \n",
    "lstm_model.add(LSTM(50))\n",
    "lstm_model.add(Dense(1))\n",
    "lstm_model.compile(optimizer='adam', loss='mean_squared_error')\n",
    "\n",
    "lstm_model.fit(X_lstm_data, y_lstm_data, epochs=30, batch_size=15, verbose=1)\n"
   ]
  },
  {
   "cell_type": "code",
   "execution_count": 36,
   "id": "d87315fa-1a3d-4241-8464-dba80cf6d82c",
   "metadata": {},
   "outputs": [
    {
     "name": "stdout",
     "output_type": "stream",
     "text": [
      "\u001b[1m1/1\u001b[0m \u001b[32m━━━━━━━━━━━━━━━━━━━━\u001b[0m\u001b[37m\u001b[0m \u001b[1m1s\u001b[0m 799ms/step\n"
     ]
    }
   ],
   "source": [
    "last_sequence = scaled_close[-1].reshape(1, 1, 1) \n",
    "\n",
    "lstm_prediction_next = lstm_model.predict(last_sequence)\n",
    "\n",
    "lstm_prediction_next_inv = scaler.inverse_transform(lstm_prediction_next)[0][0]"
   ]
  },
  {
   "cell_type": "code",
   "execution_count": 37,
   "id": "a35c9fbd-0867-495d-b091-542773caa6dd",
   "metadata": {},
   "outputs": [
    {
     "name": "stdout",
     "output_type": "stream",
     "text": [
      "\u001b[1m28/28\u001b[0m \u001b[32m━━━━━━━━━━━━━━━━━━━━\u001b[0m\u001b[37m\u001b[0m \u001b[1m1s\u001b[0m 4ms/step \n"
     ]
    }
   ],
   "source": [
    "test_split_ratio = 0.2\n",
    "\n",
    "split_index = int(len(scaled_close) * (1 - test_split_ratio))\n",
    "\n",
    "X_lstm_train_scaled = scaled_close[:split_index][:-1]\n",
    "y_lstm_train_scaled = scaled_close[:split_index][1:]\n",
    "X_lstm_test_scaled = scaled_close[split_index:][:-1] \n",
    "y_lstm_test_scaled = scaled_close[split_index:][1:]  \n",
    "\n",
    "X_lstm_test_scaled = X_lstm_test_scaled.reshape(-1, 1, 1)\n",
    "\n",
    "lstm_predictions_scaled = lstm_model.predict(X_lstm_test_scaled)\n",
    "\n",
    "lstm_predictions_inv = scaler.inverse_transform(lstm_predictions_scaled)\n",
    "\n",
    "y_lstm_test_inv = scaler.inverse_transform(y_lstm_test_scaled)\n"
   ]
  },
  {
   "cell_type": "code",
   "execution_count": 38,
   "id": "f0b7cfee-55f2-4a9b-bd7c-87e040418f6d",
   "metadata": {},
   "outputs": [
    {
     "data": {
      "image/png": "[encoded data removed]",
      "text/plain": [
       "<Figure size 1200x600 with 1 Axes>"
      ]
     },
     "metadata": {},
     "output_type": "display_data"
    }
   ],
   "source": [
    "actual_test_dates = tcs['Date'].iloc[split_index + 1:] \n",
    "\n",
    "plt.figure(figsize=(12,6))\n",
    "plt.plot(actual_test_dates, y_lstm_test_inv, label='Actual Test Prices')\n",
    "plt.plot(actual_test_dates, lstm_predictions_inv, label='LSTM Predicted Prices')\n",
    "plt.title('TCS Stock Price Prediction using LSTM (Test Period)')\n",
    "plt.xlabel('Date')\n",
    "plt.ylabel('Close Price')\n",
    "plt.legend()\n",
    "plt.show()\n"
   ]
  },
  {
   "cell_type": "code",
   "execution_count": 39,
   "id": "b9017044-f3e7-4499-8a2a-cdbfaa7a22a8",
   "metadata": {},
   "outputs": [
    {
     "name": "stdout",
     "output_type": "stream",
     "text": [
      "LSTM Mean Absolute Error (Test Set): 26.835372856379625\n"
     ]
    }
   ],
   "source": [
    "mae_lstm = mean_absolute_error(y_lstm_test_inv, lstm_predictions_inv)\n",
    "print(\"LSTM Mean Absolute Error (Test Set):\", mae_lstm)"
   ]
  },
  {
   "cell_type": "code",
   "execution_count": null,
   "id": "1c213b11-e82b-49a9-9909-e4e88d259571",
   "metadata": {},
   "outputs": [],
   "source": []
  }
 ],
 "metadata": {
  "kernelspec": {
   "display_name": "Python 3 (ipykernel)",
   "language": "python",
   "name": "python3"
  },
  "language_info": {
   "codemirror_mode": {
    "name": "ipython",
    "version": 3
   },
   "file_extension": ".py",
   "mimetype": "text/x-python",
   "name": "python",
   "nbconvert_exporter": "python",
   "pygments_lexer": "ipython3",
   "version": "3.11.7"
  }
 },
 "nbformat": 4,
 "nbformat_minor": 5
}
